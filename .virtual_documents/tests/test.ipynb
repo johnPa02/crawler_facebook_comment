import pandas as pd

df1 = pd.read_csv("../data/1125801148600182.csv")



pd.set_option('display.max_colwidth', None)


df1.head()


len(df1)


df2 = pd.read_csv("../data/qZbIHmu3Vn.csv")
df2.head()


len(df2)


df3 = pd.read_csv("../data/1275155160285835.csv")
df3.head()
len(df3)


combined_df = pd.concat([df1, df2, df3], ignore_index=True)

# Combine removing unusual characters from the beginning and end of the comments into one regex operation
combined_cleaned_comments = combined_df['comment'].str.replace(r'^\W+|\W+$', '', regex=True)

combined_df['comment'] = combined_cleaned_comments

combined_df.head()


# Shuffle the DataFrame to ensure a uniform distribution of data
shuffled_df = combined_df.sample(frac=1, random_state=42).reset_index(drop=True)

shuffled_df.head()


len(shuffled_df)


shuffled_file_path = '../data/comments.csv'
shuffled_df.to_csv(shuffled_file_path, index=False)


shuffled_df_read = pd.read_csv(shuffled_file_path)
shuffled_df_read.head()





import csv
import json
import uuid
# Đường dẫn tới file CSV và file JSON đầu ra
csv_file_path = '../data/filtered_comments.csv'
json_file_path = '../data/SocialSentiment_Batch2_2024-11-04.json'

data = []
with open(csv_file_path, mode='r', encoding='utf-8') as csv_file:
    csv_reader = csv.DictReader(csv_file)
    for row in csv_reader:
        data_row = {
            "row_data": row["comment"],
            "media_type": "TEXT",
            "global_key": str(uuid.uuid4())
        }
        data.append(data_row)

# Ghi dữ liệu vào file JSON
with open(json_file_path, mode='w', encoding='utf-8') as json_file:
    json.dump(data, json_file, ensure_ascii=False, indent=2)

print(f"Đã chuyển đổi CSV thành JSON tại: {json_file_path}")




