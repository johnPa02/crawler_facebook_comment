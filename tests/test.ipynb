{
 "cells": [
  {
   "cell_type": "code",
   "execution_count": 11,
   "id": "1e019370",
   "metadata": {},
   "outputs": [],
   "source": [
    "import pandas as pd\n",
    "\n",
    "df1 = pd.read_csv(\"../data/1125801148600182.csv\")\n"
   ]
  },
  {
   "cell_type": "code",
   "execution_count": 2,
   "id": "b9c6521a",
   "metadata": {},
   "outputs": [],
   "source": [
    "pd.set_option('display.max_colwidth', None)"
   ]
  },
  {
   "cell_type": "code",
   "execution_count": 10,
   "id": "50486798",
   "metadata": {},
   "outputs": [
    {
     "data": {
      "text/html": [
       "<div>\n",
       "<style scoped>\n",
       "    .dataframe tbody tr th:only-of-type {\n",
       "        vertical-align: middle;\n",
       "    }\n",
       "\n",
       "    .dataframe tbody tr th {\n",
       "        vertical-align: top;\n",
       "    }\n",
       "\n",
       "    .dataframe thead th {\n",
       "        text-align: right;\n",
       "    }\n",
       "</style>\n",
       "<table border=\"1\" class=\"dataframe\">\n",
       "  <thead>\n",
       "    <tr style=\"text-align: right;\">\n",
       "      <th></th>\n",
       "      <th>comment</th>\n",
       "      <th>label</th>\n",
       "    </tr>\n",
       "  </thead>\n",
       "  <tbody>\n",
       "    <tr>\n",
       "      <th>0</th>\n",
       "      <td>· tổng vệ sinh chứ tổng tài gì</td>\n",
       "      <td>NaN</td>\n",
       "    </tr>\n",
       "    <tr>\n",
       "      <th>1</th>\n",
       "      <td>Nhìn đã thấy yêu rồi- yêu ma quỷ quái</td>\n",
       "      <td>NaN</td>\n",
       "    </tr>\n",
       "    <tr>\n",
       "      <th>2</th>\n",
       "      <td>Mé ơi. Sáng sớm coi cái tao cọc ngang luôn bây</td>\n",
       "      <td>NaN</td>\n",
       "    </tr>\n",
       "    <tr>\n",
       "      <th>3</th>\n",
       "      <td>Một người không có truyền cảm hứng, không có xíu năng lượng tích cực nào mà Yan cũng lên content được nể thiệt</td>\n",
       "      <td>NaN</td>\n",
       "    </tr>\n",
       "    <tr>\n",
       "      <th>4</th>\n",
       "      <td>T nói Yan hết content r mới mời tới con này</td>\n",
       "      <td>NaN</td>\n",
       "    </tr>\n",
       "  </tbody>\n",
       "</table>\n",
       "</div>"
      ],
      "text/plain": [
       "                                                                                                          comment  \\\n",
       "0                                                                                  · tổng vệ sinh chứ tổng tài gì   \n",
       "1                                                                          Nhìn đã thấy yêu rồi- yêu ma quỷ quái    \n",
       "2                                                                  Mé ơi. Sáng sớm coi cái tao cọc ngang luôn bây   \n",
       "3  Một người không có truyền cảm hứng, không có xíu năng lượng tích cực nào mà Yan cũng lên content được nể thiệt   \n",
       "4                                                                     T nói Yan hết content r mới mời tới con này   \n",
       "\n",
       "    label  \n",
       "0     NaN  \n",
       "1     NaN  \n",
       "2     NaN  \n",
       "3     NaN  \n",
       "4     NaN  "
      ]
     },
     "execution_count": 10,
     "metadata": {},
     "output_type": "execute_result"
    }
   ],
   "source": [
    "df1.head()"
   ]
  },
  {
   "cell_type": "code",
   "execution_count": 13,
   "id": "1d55fe5a",
   "metadata": {},
   "outputs": [
    {
     "data": {
      "text/plain": [
       "956"
      ]
     },
     "execution_count": 13,
     "metadata": {},
     "output_type": "execute_result"
    }
   ],
   "source": [
    "len(df1)"
   ]
  },
  {
   "cell_type": "code",
   "execution_count": 12,
   "id": "39d99366",
   "metadata": {},
   "outputs": [
    {
     "data": {
      "text/html": [
       "<div>\n",
       "<style scoped>\n",
       "    .dataframe tbody tr th:only-of-type {\n",
       "        vertical-align: middle;\n",
       "    }\n",
       "\n",
       "    .dataframe tbody tr th {\n",
       "        vertical-align: top;\n",
       "    }\n",
       "\n",
       "    .dataframe thead th {\n",
       "        text-align: right;\n",
       "    }\n",
       "</style>\n",
       "<table border=\"1\" class=\"dataframe\">\n",
       "  <thead>\n",
       "    <tr style=\"text-align: right;\">\n",
       "      <th></th>\n",
       "      <th>comment</th>\n",
       "      <th>label</th>\n",
       "    </tr>\n",
       "  </thead>\n",
       "  <tbody>\n",
       "    <tr>\n",
       "      <th>0</th>\n",
       "      <td>MỘT PHÚT TƯỞNG NIỆM cho editor của INTERPOOL hiện đang bị phơi nhiễm cringe rất nghiêm trọng sau khi xử lý quá nhiều tư liệu về Trấn Thành .(Ảnh: Anh E. cùng vợ)</td>\n",
       "      <td>NaN</td>\n",
       "    </tr>\n",
       "    <tr>\n",
       "      <th>1</th>\n",
       "      <td>Đàm Vĩnh Biệt</td>\n",
       "      <td>NaN</td>\n",
       "    </tr>\n",
       "    <tr>\n",
       "      <th>2</th>\n",
       "      <td>Trấn Thành rất giỏi</td>\n",
       "      <td>NaN</td>\n",
       "    </tr>\n",
       "    <tr>\n",
       "      <th>3</th>\n",
       "      <td>Moá cười ỉa</td>\n",
       "      <td>NaN</td>\n",
       "    </tr>\n",
       "    <tr>\n",
       "      <th>4</th>\n",
       "      <td>Nó diễn đấy . Khóc con c ..</td>\n",
       "      <td>NaN</td>\n",
       "    </tr>\n",
       "  </tbody>\n",
       "</table>\n",
       "</div>"
      ],
      "text/plain": [
       "                                                                                                                                                             comment  \\\n",
       "0  MỘT PHÚT TƯỞNG NIỆM cho editor của INTERPOOL hiện đang bị phơi nhiễm cringe rất nghiêm trọng sau khi xử lý quá nhiều tư liệu về Trấn Thành .(Ảnh: Anh E. cùng vợ)   \n",
       "1                                                                                                                                                      Đàm Vĩnh Biệt   \n",
       "2                                                                                                                                                Trấn Thành rất giỏi   \n",
       "3                                                                                                                                                        Moá cười ỉa   \n",
       "4                                                                                                                                        Nó diễn đấy . Khóc con c ..   \n",
       "\n",
       "    label  \n",
       "0     NaN  \n",
       "1     NaN  \n",
       "2     NaN  \n",
       "3     NaN  \n",
       "4     NaN  "
      ]
     },
     "execution_count": 12,
     "metadata": {},
     "output_type": "execute_result"
    }
   ],
   "source": [
    "df2 = pd.read_csv(\"../data/qZbIHmu3Vn.csv\")\n",
    "df2.head()"
   ]
  },
  {
   "cell_type": "code",
   "execution_count": 14,
   "id": "2ee389fe",
   "metadata": {},
   "outputs": [
    {
     "data": {
      "text/plain": [
       "1203"
      ]
     },
     "execution_count": 14,
     "metadata": {},
     "output_type": "execute_result"
    }
   ],
   "source": [
    "len(df2)"
   ]
  },
  {
   "cell_type": "code",
   "execution_count": 16,
   "id": "62752e6e",
   "metadata": {},
   "outputs": [
    {
     "data": {
      "text/plain": [
       "849"
      ]
     },
     "execution_count": 16,
     "metadata": {},
     "output_type": "execute_result"
    }
   ],
   "source": [
    "df3 = pd.read_csv(\"../data/1275155160285835.csv\")\n",
    "df3.head()\n",
    "len(df3)"
   ]
  },
  {
   "cell_type": "code",
   "execution_count": 17,
   "id": "de8f68f1",
   "metadata": {},
   "outputs": [
    {
     "data": {
      "text/html": [
       "<div>\n",
       "<style scoped>\n",
       "    .dataframe tbody tr th:only-of-type {\n",
       "        vertical-align: middle;\n",
       "    }\n",
       "\n",
       "    .dataframe tbody tr th {\n",
       "        vertical-align: top;\n",
       "    }\n",
       "\n",
       "    .dataframe thead th {\n",
       "        text-align: right;\n",
       "    }\n",
       "</style>\n",
       "<table border=\"1\" class=\"dataframe\">\n",
       "  <thead>\n",
       "    <tr style=\"text-align: right;\">\n",
       "      <th></th>\n",
       "      <th>comment</th>\n",
       "      <th>label</th>\n",
       "    </tr>\n",
       "  </thead>\n",
       "  <tbody>\n",
       "    <tr>\n",
       "      <th>0</th>\n",
       "      <td>tổng vệ sinh chứ tổng tài gì</td>\n",
       "      <td>NaN</td>\n",
       "    </tr>\n",
       "    <tr>\n",
       "      <th>1</th>\n",
       "      <td>Nhìn đã thấy yêu rồi- yêu ma quỷ quái</td>\n",
       "      <td>NaN</td>\n",
       "    </tr>\n",
       "    <tr>\n",
       "      <th>2</th>\n",
       "      <td>Mé ơi. Sáng sớm coi cái tao cọc ngang luôn bây</td>\n",
       "      <td>NaN</td>\n",
       "    </tr>\n",
       "    <tr>\n",
       "      <th>3</th>\n",
       "      <td>Một người không có truyền cảm hứng, không có xíu năng lượng tích cực nào mà Yan cũng lên content được nể thiệt</td>\n",
       "      <td>NaN</td>\n",
       "    </tr>\n",
       "    <tr>\n",
       "      <th>4</th>\n",
       "      <td>T nói Yan hết content r mới mời tới con này</td>\n",
       "      <td>NaN</td>\n",
       "    </tr>\n",
       "  </tbody>\n",
       "</table>\n",
       "</div>"
      ],
      "text/plain": [
       "                                                                                                          comment  \\\n",
       "0                                                                                    tổng vệ sinh chứ tổng tài gì   \n",
       "1                                                                           Nhìn đã thấy yêu rồi- yêu ma quỷ quái   \n",
       "2                                                                  Mé ơi. Sáng sớm coi cái tao cọc ngang luôn bây   \n",
       "3  Một người không có truyền cảm hứng, không có xíu năng lượng tích cực nào mà Yan cũng lên content được nể thiệt   \n",
       "4                                                                     T nói Yan hết content r mới mời tới con này   \n",
       "\n",
       "    label  \n",
       "0     NaN  \n",
       "1     NaN  \n",
       "2     NaN  \n",
       "3     NaN  \n",
       "4     NaN  "
      ]
     },
     "execution_count": 17,
     "metadata": {},
     "output_type": "execute_result"
    }
   ],
   "source": [
    "combined_df = pd.concat([df1, df2, df3], ignore_index=True)\n",
    "\n",
    "# Combine removing unusual characters from the beginning and end of the comments into one regex operation\n",
    "combined_cleaned_comments = combined_df['comment'].str.replace(r'^\\W+|\\W+$', '', regex=True)\n",
    "\n",
    "combined_df['comment'] = combined_cleaned_comments\n",
    "\n",
    "combined_df.head()"
   ]
  },
  {
   "cell_type": "code",
   "execution_count": 18,
   "id": "df95b80b",
   "metadata": {},
   "outputs": [
    {
     "data": {
      "text/html": [
       "<div>\n",
       "<style scoped>\n",
       "    .dataframe tbody tr th:only-of-type {\n",
       "        vertical-align: middle;\n",
       "    }\n",
       "\n",
       "    .dataframe tbody tr th {\n",
       "        vertical-align: top;\n",
       "    }\n",
       "\n",
       "    .dataframe thead th {\n",
       "        text-align: right;\n",
       "    }\n",
       "</style>\n",
       "<table border=\"1\" class=\"dataframe\">\n",
       "  <thead>\n",
       "    <tr style=\"text-align: right;\">\n",
       "      <th></th>\n",
       "      <th>comment</th>\n",
       "      <th>label</th>\n",
       "    </tr>\n",
       "  </thead>\n",
       "  <tbody>\n",
       "    <tr>\n",
       "      <th>0</th>\n",
       "      <td>e nhớ c e muốn c</td>\n",
       "      <td>NaN</td>\n",
       "    </tr>\n",
       "    <tr>\n",
       "      <th>1</th>\n",
       "      <td>tổng tài của e đây</td>\n",
       "      <td>NaN</td>\n",
       "    </tr>\n",
       "    <tr>\n",
       "      <th>2</th>\n",
       "      <td>Sát khí</td>\n",
       "      <td>NaN</td>\n",
       "    </tr>\n",
       "    <tr>\n",
       "      <th>3</th>\n",
       "      <td>Nghĩ mà cứ ngồi cười một mình , nhìn thầy M T hăm hở đi khất thực  , chả biết đằng sau ồn ào , khen , chê , nói sấu mình , cứ hăm hở đi</td>\n",
       "      <td>NaN</td>\n",
       "    </tr>\n",
       "    <tr>\n",
       "      <th>4</th>\n",
       "      <td>tổng này là tổng gì đâyy hả m</td>\n",
       "      <td>NaN</td>\n",
       "    </tr>\n",
       "  </tbody>\n",
       "</table>\n",
       "</div>"
      ],
      "text/plain": [
       "                                                                                                                                   comment  \\\n",
       "0                                                                                                                         e nhớ c e muốn c   \n",
       "1                                                                                                                       tổng tài của e đây   \n",
       "2                                                                                                                                  Sát khí   \n",
       "3  Nghĩ mà cứ ngồi cười một mình , nhìn thầy M T hăm hở đi khất thực  , chả biết đằng sau ồn ào , khen , chê , nói sấu mình , cứ hăm hở đi   \n",
       "4                                                                                                            tổng này là tổng gì đâyy hả m   \n",
       "\n",
       "    label  \n",
       "0     NaN  \n",
       "1     NaN  \n",
       "2     NaN  \n",
       "3     NaN  \n",
       "4     NaN  "
      ]
     },
     "execution_count": 18,
     "metadata": {},
     "output_type": "execute_result"
    }
   ],
   "source": [
    "# Shuffle the DataFrame to ensure a uniform distribution of data\n",
    "shuffled_df = combined_df.sample(frac=1, random_state=42).reset_index(drop=True)\n",
    "\n",
    "shuffled_df.head()"
   ]
  },
  {
   "cell_type": "code",
   "execution_count": 19,
   "id": "1653fd63",
   "metadata": {},
   "outputs": [
    {
     "data": {
      "text/plain": [
       "3008"
      ]
     },
     "execution_count": 19,
     "metadata": {},
     "output_type": "execute_result"
    }
   ],
   "source": [
    "len(shuffled_df)"
   ]
  },
  {
   "cell_type": "code",
   "execution_count": 20,
   "id": "edba25dc",
   "metadata": {},
   "outputs": [],
   "source": [
    "shuffled_file_path = '../data/comments.csv'\n",
    "shuffled_df.to_csv(shuffled_file_path, index=False)"
   ]
  },
  {
   "cell_type": "code",
   "execution_count": 21,
   "id": "e71b30e0",
   "metadata": {},
   "outputs": [
    {
     "data": {
      "text/html": [
       "<div>\n",
       "<style scoped>\n",
       "    .dataframe tbody tr th:only-of-type {\n",
       "        vertical-align: middle;\n",
       "    }\n",
       "\n",
       "    .dataframe tbody tr th {\n",
       "        vertical-align: top;\n",
       "    }\n",
       "\n",
       "    .dataframe thead th {\n",
       "        text-align: right;\n",
       "    }\n",
       "</style>\n",
       "<table border=\"1\" class=\"dataframe\">\n",
       "  <thead>\n",
       "    <tr style=\"text-align: right;\">\n",
       "      <th></th>\n",
       "      <th>comment</th>\n",
       "      <th>label</th>\n",
       "    </tr>\n",
       "  </thead>\n",
       "  <tbody>\n",
       "    <tr>\n",
       "      <th>0</th>\n",
       "      <td>e nhớ c e muốn c</td>\n",
       "      <td>NaN</td>\n",
       "    </tr>\n",
       "    <tr>\n",
       "      <th>1</th>\n",
       "      <td>tổng tài của e đây</td>\n",
       "      <td>NaN</td>\n",
       "    </tr>\n",
       "    <tr>\n",
       "      <th>2</th>\n",
       "      <td>Sát khí</td>\n",
       "      <td>NaN</td>\n",
       "    </tr>\n",
       "    <tr>\n",
       "      <th>3</th>\n",
       "      <td>Nghĩ mà cứ ngồi cười một mình , nhìn thầy M T hăm hở đi khất thực  , chả biết đằng sau ồn ào , khen , chê , nói sấu mình , cứ hăm hở đi</td>\n",
       "      <td>NaN</td>\n",
       "    </tr>\n",
       "    <tr>\n",
       "      <th>4</th>\n",
       "      <td>tổng này là tổng gì đâyy hả m</td>\n",
       "      <td>NaN</td>\n",
       "    </tr>\n",
       "  </tbody>\n",
       "</table>\n",
       "</div>"
      ],
      "text/plain": [
       "                                                                                                                                   comment  \\\n",
       "0                                                                                                                         e nhớ c e muốn c   \n",
       "1                                                                                                                       tổng tài của e đây   \n",
       "2                                                                                                                                  Sát khí   \n",
       "3  Nghĩ mà cứ ngồi cười một mình , nhìn thầy M T hăm hở đi khất thực  , chả biết đằng sau ồn ào , khen , chê , nói sấu mình , cứ hăm hở đi   \n",
       "4                                                                                                            tổng này là tổng gì đâyy hả m   \n",
       "\n",
       "    label  \n",
       "0     NaN  \n",
       "1     NaN  \n",
       "2     NaN  \n",
       "3     NaN  \n",
       "4     NaN  "
      ]
     },
     "execution_count": 21,
     "metadata": {},
     "output_type": "execute_result"
    }
   ],
   "source": [
    "shuffled_df_read = pd.read_csv(shuffled_file_path)\n",
    "shuffled_df_read.head()"
   ]
  },
  {
   "cell_type": "markdown",
   "id": "38c46bd8",
   "metadata": {},
   "source": [
    "# Convert to json format for labelbox"
   ]
  },
  {
   "cell_type": "code",
   "execution_count": 1,
   "id": "3adf92ca",
   "metadata": {},
   "outputs": [
    {
     "name": "stdout",
     "output_type": "stream",
     "text": [
      "Đã chuyển đổi CSV thành JSON tại: ../data/SocialSentiment_Batch2_2024-11-04.json\n"
     ]
    }
   ],
   "source": [
    "import csv\n",
    "import json\n",
    "import uuid\n",
    "# Đường dẫn tới file CSV và file JSON đầu ra\n",
    "csv_file_path = '../data/filtered_comments.csv'\n",
    "json_file_path = '../data/SocialSentiment_Batch2_2024-11-04.json'\n",
    "\n",
    "data = []\n",
    "with open(csv_file_path, mode='r', encoding='utf-8') as csv_file:\n",
    "    csv_reader = csv.DictReader(csv_file)\n",
    "    for row in csv_reader:\n",
    "        data_row = {\n",
    "            \"row_data\": row[\"comment\"],\n",
    "            \"media_type\": \"TEXT\",\n",
    "            \"global_key\": str(uuid.uuid4())\n",
    "        }\n",
    "        data.append(data_row)\n",
    "\n",
    "# Ghi dữ liệu vào file JSON\n",
    "with open(json_file_path, mode='w', encoding='utf-8') as json_file:\n",
    "    json.dump(data, json_file, ensure_ascii=False, indent=2)\n",
    "\n",
    "print(f\"Đã chuyển đổi CSV thành JSON tại: {json_file_path}\")\n"
   ]
  },
  {
   "cell_type": "markdown",
   "id": "567298cf-6733-4143-b83c-030f6853475f",
   "metadata": {},
   "source": [
    "## Convert json to csv"
   ]
  },
  {
   "cell_type": "code",
   "execution_count": 10,
   "id": "f4f546f0-bdff-42df-b81b-2fffdbe34ac5",
   "metadata": {},
   "outputs": [
    {
     "name": "stdout",
     "output_type": "stream",
     "text": [
      "Collecting ndjson\n",
      "  Downloading ndjson-0.3.1-py2.py3-none-any.whl.metadata (3.2 kB)\n",
      "Downloading ndjson-0.3.1-py2.py3-none-any.whl (5.3 kB)\n",
      "Installing collected packages: ndjson\n",
      "Successfully installed ndjson-0.3.1\n"
     ]
    }
   ],
   "source": [
    "!pip install ndjson"
   ]
  },
  {
   "cell_type": "code",
   "execution_count": 12,
   "id": "5cb108d5-c3f3-4dd2-8cb7-69dce2b9a86c",
   "metadata": {},
   "outputs": [],
   "source": [
    "import csv\n",
    "import ndjson\n",
    "\n",
    "json_path = '../data/Export v2 project - SocialSentiment - 11_6_2024.ndjson'\n",
    "csv_file_path = '../data/SocialSentiment_3968_to_label_2024-11-6.csv'\n",
    "\n",
    "# Read NDJSON data from file\n",
    "with open(json_path, 'r', encoding='utf-8') as ndjson_file:\n",
    "    ndjson_data = ndjson.load(ndjson_file)\n",
    "\n"
   ]
  },
  {
   "cell_type": "code",
   "execution_count": 13,
   "id": "e514929b-12ca-4ac2-9c3e-622fba8df56f",
   "metadata": {},
   "outputs": [
    {
     "data": {
      "text/html": [
       "<div>\n",
       "<style scoped>\n",
       "    .dataframe tbody tr th:only-of-type {\n",
       "        vertical-align: middle;\n",
       "    }\n",
       "\n",
       "    .dataframe tbody tr th {\n",
       "        vertical-align: top;\n",
       "    }\n",
       "\n",
       "    .dataframe thead th {\n",
       "        text-align: right;\n",
       "    }\n",
       "</style>\n",
       "<table border=\"1\" class=\"dataframe\">\n",
       "  <thead>\n",
       "    <tr style=\"text-align: right;\">\n",
       "      <th></th>\n",
       "      <th>data_row</th>\n",
       "      <th>media_attributes</th>\n",
       "      <th>projects</th>\n",
       "    </tr>\n",
       "  </thead>\n",
       "  <tbody>\n",
       "    <tr>\n",
       "      <th>0</th>\n",
       "      <td>{'id': 'cm2ych3k40dyi07043tfy75yu', 'global_ke...</td>\n",
       "      <td>{'asset_type': 'text', 'mime_type': 'text/plain'}</td>\n",
       "      <td>{'cm2yav2es088z07vff6xd1p5j': {'name': 'Social...</td>\n",
       "    </tr>\n",
       "    <tr>\n",
       "      <th>1</th>\n",
       "      <td>{'id': 'cm2ych3k40dyj0704x945s3p6', 'global_ke...</td>\n",
       "      <td>{'asset_type': 'text', 'mime_type': 'text/plain'}</td>\n",
       "      <td>{'cm2yav2es088z07vff6xd1p5j': {'name': 'Social...</td>\n",
       "    </tr>\n",
       "    <tr>\n",
       "      <th>2</th>\n",
       "      <td>{'id': 'cm2ych3k40dyk0704gleekoyf', 'global_ke...</td>\n",
       "      <td>{'asset_type': 'text', 'mime_type': 'text/plain'}</td>\n",
       "      <td>{'cm2yav2es088z07vff6xd1p5j': {'name': 'Social...</td>\n",
       "    </tr>\n",
       "    <tr>\n",
       "      <th>3</th>\n",
       "      <td>{'id': 'cm2ych3k40dyl0704jusif8vh', 'global_ke...</td>\n",
       "      <td>{'asset_type': 'text', 'mime_type': 'text/plain'}</td>\n",
       "      <td>{'cm2yav2es088z07vff6xd1p5j': {'name': 'Social...</td>\n",
       "    </tr>\n",
       "    <tr>\n",
       "      <th>4</th>\n",
       "      <td>{'id': 'cm2ych3k40dym07043ihurct8', 'global_ke...</td>\n",
       "      <td>{'asset_type': 'text', 'mime_type': 'text/plain'}</td>\n",
       "      <td>{'cm2yav2es088z07vff6xd1p5j': {'name': 'Social...</td>\n",
       "    </tr>\n",
       "    <tr>\n",
       "      <th>...</th>\n",
       "      <td>...</td>\n",
       "      <td>...</td>\n",
       "      <td>...</td>\n",
       "    </tr>\n",
       "    <tr>\n",
       "      <th>3963</th>\n",
       "      <td>{'id': 'cm31yn8lt1n1m0706g3twddez', 'global_ke...</td>\n",
       "      <td>{'asset_type': 'text', 'mime_type': 'text/plain'}</td>\n",
       "      <td>{'cm2yav2es088z07vff6xd1p5j': {'name': 'Social...</td>\n",
       "    </tr>\n",
       "    <tr>\n",
       "      <th>3964</th>\n",
       "      <td>{'id': 'cm31yn8lt1n1n0706yiutemof', 'global_ke...</td>\n",
       "      <td>{'asset_type': 'text', 'mime_type': 'text/plain'}</td>\n",
       "      <td>{'cm2yav2es088z07vff6xd1p5j': {'name': 'Social...</td>\n",
       "    </tr>\n",
       "    <tr>\n",
       "      <th>3965</th>\n",
       "      <td>{'id': 'cm31yn8lt1n1o0706l2b589dh', 'global_ke...</td>\n",
       "      <td>{'asset_type': 'text', 'mime_type': 'text/plain'}</td>\n",
       "      <td>{'cm2yav2es088z07vff6xd1p5j': {'name': 'Social...</td>\n",
       "    </tr>\n",
       "    <tr>\n",
       "      <th>3966</th>\n",
       "      <td>{'id': 'cm31yn8lt1n1q0706j027phrs', 'global_ke...</td>\n",
       "      <td>{'asset_type': 'text', 'mime_type': 'text/plain'}</td>\n",
       "      <td>{'cm2yav2es088z07vff6xd1p5j': {'name': 'Social...</td>\n",
       "    </tr>\n",
       "    <tr>\n",
       "      <th>3967</th>\n",
       "      <td>{'id': 'cm31yn8lt1n1p070654ffcfil', 'global_ke...</td>\n",
       "      <td>{'asset_type': 'text', 'mime_type': 'text/plain'}</td>\n",
       "      <td>{'cm2yav2es088z07vff6xd1p5j': {'name': 'Social...</td>\n",
       "    </tr>\n",
       "  </tbody>\n",
       "</table>\n",
       "<p>3968 rows × 3 columns</p>\n",
       "</div>"
      ],
      "text/plain": [
       "                                               data_row  \\\n",
       "0     {'id': 'cm2ych3k40dyi07043tfy75yu', 'global_ke...   \n",
       "1     {'id': 'cm2ych3k40dyj0704x945s3p6', 'global_ke...   \n",
       "2     {'id': 'cm2ych3k40dyk0704gleekoyf', 'global_ke...   \n",
       "3     {'id': 'cm2ych3k40dyl0704jusif8vh', 'global_ke...   \n",
       "4     {'id': 'cm2ych3k40dym07043ihurct8', 'global_ke...   \n",
       "...                                                 ...   \n",
       "3963  {'id': 'cm31yn8lt1n1m0706g3twddez', 'global_ke...   \n",
       "3964  {'id': 'cm31yn8lt1n1n0706yiutemof', 'global_ke...   \n",
       "3965  {'id': 'cm31yn8lt1n1o0706l2b589dh', 'global_ke...   \n",
       "3966  {'id': 'cm31yn8lt1n1q0706j027phrs', 'global_ke...   \n",
       "3967  {'id': 'cm31yn8lt1n1p070654ffcfil', 'global_ke...   \n",
       "\n",
       "                                       media_attributes  \\\n",
       "0     {'asset_type': 'text', 'mime_type': 'text/plain'}   \n",
       "1     {'asset_type': 'text', 'mime_type': 'text/plain'}   \n",
       "2     {'asset_type': 'text', 'mime_type': 'text/plain'}   \n",
       "3     {'asset_type': 'text', 'mime_type': 'text/plain'}   \n",
       "4     {'asset_type': 'text', 'mime_type': 'text/plain'}   \n",
       "...                                                 ...   \n",
       "3963  {'asset_type': 'text', 'mime_type': 'text/plain'}   \n",
       "3964  {'asset_type': 'text', 'mime_type': 'text/plain'}   \n",
       "3965  {'asset_type': 'text', 'mime_type': 'text/plain'}   \n",
       "3966  {'asset_type': 'text', 'mime_type': 'text/plain'}   \n",
       "3967  {'asset_type': 'text', 'mime_type': 'text/plain'}   \n",
       "\n",
       "                                               projects  \n",
       "0     {'cm2yav2es088z07vff6xd1p5j': {'name': 'Social...  \n",
       "1     {'cm2yav2es088z07vff6xd1p5j': {'name': 'Social...  \n",
       "2     {'cm2yav2es088z07vff6xd1p5j': {'name': 'Social...  \n",
       "3     {'cm2yav2es088z07vff6xd1p5j': {'name': 'Social...  \n",
       "4     {'cm2yav2es088z07vff6xd1p5j': {'name': 'Social...  \n",
       "...                                                 ...  \n",
       "3963  {'cm2yav2es088z07vff6xd1p5j': {'name': 'Social...  \n",
       "3964  {'cm2yav2es088z07vff6xd1p5j': {'name': 'Social...  \n",
       "3965  {'cm2yav2es088z07vff6xd1p5j': {'name': 'Social...  \n",
       "3966  {'cm2yav2es088z07vff6xd1p5j': {'name': 'Social...  \n",
       "3967  {'cm2yav2es088z07vff6xd1p5j': {'name': 'Social...  \n",
       "\n",
       "[3968 rows x 3 columns]"
      ]
     },
     "execution_count": 13,
     "metadata": {},
     "output_type": "execute_result"
    }
   ],
   "source": [
    "json_data"
   ]
  },
  {
   "cell_type": "code",
   "execution_count": 14,
   "id": "327275d8-ff7a-4e54-985b-af36de103420",
   "metadata": {},
   "outputs": [],
   "source": [
    "# Write NDJSON data to CSV\n",
    "with open(csv_file_path, mode='w', newline='', encoding='utf-8') as csv_file:\n",
    "    writer = csv.writer(csv_file)\n",
    "    # Write the header\n",
    "    writer.writerow(['comment', 'label'])\n",
    "    # Write each row_data to the comment column with an empty label column\n",
    "    for entry in ndjson_data:\n",
    "        row_data = entry['data_row']['row_data']\n",
    "        writer.writerow([row_data, ''])"
   ]
  },
  {
   "cell_type": "code",
   "execution_count": null,
   "id": "cbd152e8-a300-425c-a778-d1ed51fe4b44",
   "metadata": {},
   "outputs": [],
   "source": []
  }
 ],
 "metadata": {
  "kernelspec": {
   "display_name": "Python 3 (ipykernel)",
   "language": "python",
   "name": "python3"
  },
  "language_info": {
   "codemirror_mode": {
    "name": "ipython",
    "version": 3
   },
   "file_extension": ".py",
   "mimetype": "text/x-python",
   "name": "python",
   "nbconvert_exporter": "python",
   "pygments_lexer": "ipython3",
   "version": "3.12.4"
  }
 },
 "nbformat": 4,
 "nbformat_minor": 5
}
