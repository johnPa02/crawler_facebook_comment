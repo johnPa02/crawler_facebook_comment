{
 "cells": [
  {
   "cell_type": "code",
   "execution_count": 11,
   "id": "6ad11a5f",
   "metadata": {},
   "outputs": [],
   "source": [
    "import pandas as pd\n",
    "\n",
    "df1 = pd.read_csv(\"../data/1125801148600182.csv\")\n"
   ]
  },
  {
   "cell_type": "code",
   "execution_count": 2,
   "id": "3d509483",
   "metadata": {},
   "outputs": [],
   "source": [
    "pd.set_option('display.max_colwidth', None)"
   ]
  },
  {
   "cell_type": "code",
   "execution_count": 10,
   "id": "424a219f",
   "metadata": {},
   "outputs": [
    {
     "data": {
      "text/html": [
       "<div>\n",
       "<style scoped>\n",
       "    .dataframe tbody tr th:only-of-type {\n",
       "        vertical-align: middle;\n",
       "    }\n",
       "\n",
       "    .dataframe tbody tr th {\n",
       "        vertical-align: top;\n",
       "    }\n",
       "\n",
       "    .dataframe thead th {\n",
       "        text-align: right;\n",
       "    }\n",
       "</style>\n",
       "<table border=\"1\" class=\"dataframe\">\n",
       "  <thead>\n",
       "    <tr style=\"text-align: right;\">\n",
       "      <th></th>\n",
       "      <th>comment</th>\n",
       "      <th>label</th>\n",
       "    </tr>\n",
       "  </thead>\n",
       "  <tbody>\n",
       "    <tr>\n",
       "      <th>0</th>\n",
       "      <td>· tổng vệ sinh chứ tổng tài gì</td>\n",
       "      <td>NaN</td>\n",
       "    </tr>\n",
       "    <tr>\n",
       "      <th>1</th>\n",
       "      <td>Nhìn đã thấy yêu rồi- yêu ma quỷ quái</td>\n",
       "      <td>NaN</td>\n",
       "    </tr>\n",
       "    <tr>\n",
       "      <th>2</th>\n",
       "      <td>Mé ơi. Sáng sớm coi cái tao cọc ngang luôn bây</td>\n",
       "      <td>NaN</td>\n",
       "    </tr>\n",
       "    <tr>\n",
       "      <th>3</th>\n",
       "      <td>Một người không có truyền cảm hứng, không có xíu năng lượng tích cực nào mà Yan cũng lên content được nể thiệt</td>\n",
       "      <td>NaN</td>\n",
       "    </tr>\n",
       "    <tr>\n",
       "      <th>4</th>\n",
       "      <td>T nói Yan hết content r mới mời tới con này</td>\n",
       "      <td>NaN</td>\n",
       "    </tr>\n",
       "  </tbody>\n",
       "</table>\n",
       "</div>"
      ],
      "text/plain": [
       "                                                                                                          comment  \\\n",
       "0                                                                                  · tổng vệ sinh chứ tổng tài gì   \n",
       "1                                                                          Nhìn đã thấy yêu rồi- yêu ma quỷ quái    \n",
       "2                                                                  Mé ơi. Sáng sớm coi cái tao cọc ngang luôn bây   \n",
       "3  Một người không có truyền cảm hứng, không có xíu năng lượng tích cực nào mà Yan cũng lên content được nể thiệt   \n",
       "4                                                                     T nói Yan hết content r mới mời tới con này   \n",
       "\n",
       "    label  \n",
       "0     NaN  \n",
       "1     NaN  \n",
       "2     NaN  \n",
       "3     NaN  \n",
       "4     NaN  "
      ]
     },
     "execution_count": 10,
     "metadata": {},
     "output_type": "execute_result"
    }
   ],
   "source": [
    "df1.head()"
   ]
  },
  {
   "cell_type": "code",
   "execution_count": 13,
   "id": "33e0ad60-1ed9-4982-8c61-468b475acafc",
   "metadata": {},
   "outputs": [
    {
     "data": {
      "text/plain": [
       "956"
      ]
     },
     "execution_count": 13,
     "metadata": {},
     "output_type": "execute_result"
    }
   ],
   "source": [
    "len(df1)"
   ]
  },
  {
   "cell_type": "code",
   "execution_count": 12,
   "id": "66565c90",
   "metadata": {},
   "outputs": [
    {
     "data": {
      "text/html": [
       "<div>\n",
       "<style scoped>\n",
       "    .dataframe tbody tr th:only-of-type {\n",
       "        vertical-align: middle;\n",
       "    }\n",
       "\n",
       "    .dataframe tbody tr th {\n",
       "        vertical-align: top;\n",
       "    }\n",
       "\n",
       "    .dataframe thead th {\n",
       "        text-align: right;\n",
       "    }\n",
       "</style>\n",
       "<table border=\"1\" class=\"dataframe\">\n",
       "  <thead>\n",
       "    <tr style=\"text-align: right;\">\n",
       "      <th></th>\n",
       "      <th>comment</th>\n",
       "      <th>label</th>\n",
       "    </tr>\n",
       "  </thead>\n",
       "  <tbody>\n",
       "    <tr>\n",
       "      <th>0</th>\n",
       "      <td>MỘT PHÚT TƯỞNG NIỆM cho editor của INTERPOOL hiện đang bị phơi nhiễm cringe rất nghiêm trọng sau khi xử lý quá nhiều tư liệu về Trấn Thành .(Ảnh: Anh E. cùng vợ)</td>\n",
       "      <td>NaN</td>\n",
       "    </tr>\n",
       "    <tr>\n",
       "      <th>1</th>\n",
       "      <td>Đàm Vĩnh Biệt</td>\n",
       "      <td>NaN</td>\n",
       "    </tr>\n",
       "    <tr>\n",
       "      <th>2</th>\n",
       "      <td>Trấn Thành rất giỏi</td>\n",
       "      <td>NaN</td>\n",
       "    </tr>\n",
       "    <tr>\n",
       "      <th>3</th>\n",
       "      <td>Moá cười ỉa</td>\n",
       "      <td>NaN</td>\n",
       "    </tr>\n",
       "    <tr>\n",
       "      <th>4</th>\n",
       "      <td>Nó diễn đấy . Khóc con c ..</td>\n",
       "      <td>NaN</td>\n",
       "    </tr>\n",
       "  </tbody>\n",
       "</table>\n",
       "</div>"
      ],
      "text/plain": [
       "                                                                                                                                                             comment  \\\n",
       "0  MỘT PHÚT TƯỞNG NIỆM cho editor của INTERPOOL hiện đang bị phơi nhiễm cringe rất nghiêm trọng sau khi xử lý quá nhiều tư liệu về Trấn Thành .(Ảnh: Anh E. cùng vợ)   \n",
       "1                                                                                                                                                      Đàm Vĩnh Biệt   \n",
       "2                                                                                                                                                Trấn Thành rất giỏi   \n",
       "3                                                                                                                                                        Moá cười ỉa   \n",
       "4                                                                                                                                        Nó diễn đấy . Khóc con c ..   \n",
       "\n",
       "    label  \n",
       "0     NaN  \n",
       "1     NaN  \n",
       "2     NaN  \n",
       "3     NaN  \n",
       "4     NaN  "
      ]
     },
     "execution_count": 12,
     "metadata": {},
     "output_type": "execute_result"
    }
   ],
   "source": [
    "df2 = pd.read_csv(\"../data/qZbIHmu3Vn.csv\")\n",
    "df2.head()"
   ]
  },
  {
   "cell_type": "code",
   "execution_count": 14,
   "id": "82a8565d-60a7-4a9e-a645-4fd7eb3e506d",
   "metadata": {},
   "outputs": [
    {
     "data": {
      "text/plain": [
       "1203"
      ]
     },
     "execution_count": 14,
     "metadata": {},
     "output_type": "execute_result"
    }
   ],
   "source": [
    "len(df2)"
   ]
  },
  {
   "cell_type": "code",
   "execution_count": 16,
   "id": "ec68bc1a-be06-41ad-92d2-66028e9187d3",
   "metadata": {},
   "outputs": [
    {
     "data": {
      "text/plain": [
       "849"
      ]
     },
     "execution_count": 16,
     "metadata": {},
     "output_type": "execute_result"
    }
   ],
   "source": [
    "df3 = pd.read_csv(\"../data/1275155160285835.csv\")\n",
    "df3.head()\n",
    "len(df3)"
   ]
  },
  {
   "cell_type": "code",
   "execution_count": 17,
   "id": "4bc3529d",
   "metadata": {},
   "outputs": [
    {
     "data": {
      "text/html": [
       "<div>\n",
       "<style scoped>\n",
       "    .dataframe tbody tr th:only-of-type {\n",
       "        vertical-align: middle;\n",
       "    }\n",
       "\n",
       "    .dataframe tbody tr th {\n",
       "        vertical-align: top;\n",
       "    }\n",
       "\n",
       "    .dataframe thead th {\n",
       "        text-align: right;\n",
       "    }\n",
       "</style>\n",
       "<table border=\"1\" class=\"dataframe\">\n",
       "  <thead>\n",
       "    <tr style=\"text-align: right;\">\n",
       "      <th></th>\n",
       "      <th>comment</th>\n",
       "      <th>label</th>\n",
       "    </tr>\n",
       "  </thead>\n",
       "  <tbody>\n",
       "    <tr>\n",
       "      <th>0</th>\n",
       "      <td>tổng vệ sinh chứ tổng tài gì</td>\n",
       "      <td>NaN</td>\n",
       "    </tr>\n",
       "    <tr>\n",
       "      <th>1</th>\n",
       "      <td>Nhìn đã thấy yêu rồi- yêu ma quỷ quái</td>\n",
       "      <td>NaN</td>\n",
       "    </tr>\n",
       "    <tr>\n",
       "      <th>2</th>\n",
       "      <td>Mé ơi. Sáng sớm coi cái tao cọc ngang luôn bây</td>\n",
       "      <td>NaN</td>\n",
       "    </tr>\n",
       "    <tr>\n",
       "      <th>3</th>\n",
       "      <td>Một người không có truyền cảm hứng, không có xíu năng lượng tích cực nào mà Yan cũng lên content được nể thiệt</td>\n",
       "      <td>NaN</td>\n",
       "    </tr>\n",
       "    <tr>\n",
       "      <th>4</th>\n",
       "      <td>T nói Yan hết content r mới mời tới con này</td>\n",
       "      <td>NaN</td>\n",
       "    </tr>\n",
       "  </tbody>\n",
       "</table>\n",
       "</div>"
      ],
      "text/plain": [
       "                                                                                                          comment  \\\n",
       "0                                                                                    tổng vệ sinh chứ tổng tài gì   \n",
       "1                                                                           Nhìn đã thấy yêu rồi- yêu ma quỷ quái   \n",
       "2                                                                  Mé ơi. Sáng sớm coi cái tao cọc ngang luôn bây   \n",
       "3  Một người không có truyền cảm hứng, không có xíu năng lượng tích cực nào mà Yan cũng lên content được nể thiệt   \n",
       "4                                                                     T nói Yan hết content r mới mời tới con này   \n",
       "\n",
       "    label  \n",
       "0     NaN  \n",
       "1     NaN  \n",
       "2     NaN  \n",
       "3     NaN  \n",
       "4     NaN  "
      ]
     },
     "execution_count": 17,
     "metadata": {},
     "output_type": "execute_result"
    }
   ],
   "source": [
    "combined_df = pd.concat([df1, df2, df3], ignore_index=True)\n",
    "\n",
    "# Combine removing unusual characters from the beginning and end of the comments into one regex operation\n",
    "combined_cleaned_comments = combined_df['comment'].str.replace(r'^\\W+|\\W+$', '', regex=True)\n",
    "\n",
    "combined_df['comment'] = combined_cleaned_comments\n",
    "\n",
    "combined_df.head()"
   ]
  },
  {
   "cell_type": "code",
   "execution_count": 18,
   "id": "66e8fba6",
   "metadata": {},
   "outputs": [
    {
     "data": {
      "text/html": [
       "<div>\n",
       "<style scoped>\n",
       "    .dataframe tbody tr th:only-of-type {\n",
       "        vertical-align: middle;\n",
       "    }\n",
       "\n",
       "    .dataframe tbody tr th {\n",
       "        vertical-align: top;\n",
       "    }\n",
       "\n",
       "    .dataframe thead th {\n",
       "        text-align: right;\n",
       "    }\n",
       "</style>\n",
       "<table border=\"1\" class=\"dataframe\">\n",
       "  <thead>\n",
       "    <tr style=\"text-align: right;\">\n",
       "      <th></th>\n",
       "      <th>comment</th>\n",
       "      <th>label</th>\n",
       "    </tr>\n",
       "  </thead>\n",
       "  <tbody>\n",
       "    <tr>\n",
       "      <th>0</th>\n",
       "      <td>e nhớ c e muốn c</td>\n",
       "      <td>NaN</td>\n",
       "    </tr>\n",
       "    <tr>\n",
       "      <th>1</th>\n",
       "      <td>tổng tài của e đây</td>\n",
       "      <td>NaN</td>\n",
       "    </tr>\n",
       "    <tr>\n",
       "      <th>2</th>\n",
       "      <td>Sát khí</td>\n",
       "      <td>NaN</td>\n",
       "    </tr>\n",
       "    <tr>\n",
       "      <th>3</th>\n",
       "      <td>Nghĩ mà cứ ngồi cười một mình , nhìn thầy M T hăm hở đi khất thực  , chả biết đằng sau ồn ào , khen , chê , nói sấu mình , cứ hăm hở đi</td>\n",
       "      <td>NaN</td>\n",
       "    </tr>\n",
       "    <tr>\n",
       "      <th>4</th>\n",
       "      <td>tổng này là tổng gì đâyy hả m</td>\n",
       "      <td>NaN</td>\n",
       "    </tr>\n",
       "  </tbody>\n",
       "</table>\n",
       "</div>"
      ],
      "text/plain": [
       "                                                                                                                                   comment  \\\n",
       "0                                                                                                                         e nhớ c e muốn c   \n",
       "1                                                                                                                       tổng tài của e đây   \n",
       "2                                                                                                                                  Sát khí   \n",
       "3  Nghĩ mà cứ ngồi cười một mình , nhìn thầy M T hăm hở đi khất thực  , chả biết đằng sau ồn ào , khen , chê , nói sấu mình , cứ hăm hở đi   \n",
       "4                                                                                                            tổng này là tổng gì đâyy hả m   \n",
       "\n",
       "    label  \n",
       "0     NaN  \n",
       "1     NaN  \n",
       "2     NaN  \n",
       "3     NaN  \n",
       "4     NaN  "
      ]
     },
     "execution_count": 18,
     "metadata": {},
     "output_type": "execute_result"
    }
   ],
   "source": [
    "# Shuffle the DataFrame to ensure a uniform distribution of data\n",
    "shuffled_df = combined_df.sample(frac=1, random_state=42).reset_index(drop=True)\n",
    "\n",
    "shuffled_df.head()"
   ]
  },
  {
   "cell_type": "code",
   "execution_count": 19,
   "id": "c638a5bf-019e-4886-91fc-944cd2f90f91",
   "metadata": {},
   "outputs": [
    {
     "data": {
      "text/plain": [
       "3008"
      ]
     },
     "execution_count": 19,
     "metadata": {},
     "output_type": "execute_result"
    }
   ],
   "source": [
    "len(shuffled_df)"
   ]
  },
  {
   "cell_type": "code",
   "execution_count": 20,
   "id": "62af4e2c",
   "metadata": {},
   "outputs": [],
   "source": [
    "shuffled_file_path = '../data/comments.csv'\n",
    "shuffled_df.to_csv(shuffled_file_path, index=False)"
   ]
  },
  {
   "cell_type": "code",
   "execution_count": 21,
   "id": "21005c3e",
   "metadata": {},
   "outputs": [
    {
     "data": {
      "text/html": [
       "<div>\n",
       "<style scoped>\n",
       "    .dataframe tbody tr th:only-of-type {\n",
       "        vertical-align: middle;\n",
       "    }\n",
       "\n",
       "    .dataframe tbody tr th {\n",
       "        vertical-align: top;\n",
       "    }\n",
       "\n",
       "    .dataframe thead th {\n",
       "        text-align: right;\n",
       "    }\n",
       "</style>\n",
       "<table border=\"1\" class=\"dataframe\">\n",
       "  <thead>\n",
       "    <tr style=\"text-align: right;\">\n",
       "      <th></th>\n",
       "      <th>comment</th>\n",
       "      <th>label</th>\n",
       "    </tr>\n",
       "  </thead>\n",
       "  <tbody>\n",
       "    <tr>\n",
       "      <th>0</th>\n",
       "      <td>e nhớ c e muốn c</td>\n",
       "      <td>NaN</td>\n",
       "    </tr>\n",
       "    <tr>\n",
       "      <th>1</th>\n",
       "      <td>tổng tài của e đây</td>\n",
       "      <td>NaN</td>\n",
       "    </tr>\n",
       "    <tr>\n",
       "      <th>2</th>\n",
       "      <td>Sát khí</td>\n",
       "      <td>NaN</td>\n",
       "    </tr>\n",
       "    <tr>\n",
       "      <th>3</th>\n",
       "      <td>Nghĩ mà cứ ngồi cười một mình , nhìn thầy M T hăm hở đi khất thực  , chả biết đằng sau ồn ào , khen , chê , nói sấu mình , cứ hăm hở đi</td>\n",
       "      <td>NaN</td>\n",
       "    </tr>\n",
       "    <tr>\n",
       "      <th>4</th>\n",
       "      <td>tổng này là tổng gì đâyy hả m</td>\n",
       "      <td>NaN</td>\n",
       "    </tr>\n",
       "  </tbody>\n",
       "</table>\n",
       "</div>"
      ],
      "text/plain": [
       "                                                                                                                                   comment  \\\n",
       "0                                                                                                                         e nhớ c e muốn c   \n",
       "1                                                                                                                       tổng tài của e đây   \n",
       "2                                                                                                                                  Sát khí   \n",
       "3  Nghĩ mà cứ ngồi cười một mình , nhìn thầy M T hăm hở đi khất thực  , chả biết đằng sau ồn ào , khen , chê , nói sấu mình , cứ hăm hở đi   \n",
       "4                                                                                                            tổng này là tổng gì đâyy hả m   \n",
       "\n",
       "    label  \n",
       "0     NaN  \n",
       "1     NaN  \n",
       "2     NaN  \n",
       "3     NaN  \n",
       "4     NaN  "
      ]
     },
     "execution_count": 21,
     "metadata": {},
     "output_type": "execute_result"
    }
   ],
   "source": [
    "shuffled_df_read = pd.read_csv(shuffled_file_path)\n",
    "shuffled_df_read.head()"
   ]
  },
  {
   "cell_type": "markdown",
   "id": "dd9989bb-dcd8-4aef-99d3-a2840e7b04cb",
   "metadata": {},
   "source": [
    "# Convert to json format for labelbox"
   ]
  },
  {
   "cell_type": "code",
   "execution_count": 23,
   "id": "05648b30-4e78-4dcd-8d74-4067ce6f61a7",
   "metadata": {},
   "outputs": [
    {
     "name": "stdout",
     "output_type": "stream",
     "text": [
      "Đã chuyển đổi CSV thành JSON tại: ../data/comments.json\n"
     ]
    }
   ],
   "source": [
    "import csv\n",
    "import json\n",
    "import uuid\n",
    "# Đường dẫn tới file CSV và file JSON đầu ra\n",
    "csv_file_path = '../data/comments.csv'\n",
    "json_file_path = '../data/comments.json'\n",
    "\n",
    "data = []\n",
    "with open(csv_file_path, mode='r', encoding='utf-8') as csv_file:\n",
    "    csv_reader = csv.DictReader(csv_file)\n",
    "    for row in csv_reader:\n",
    "        data_row = {\n",
    "            \"row_data\": row[\"comment\"],\n",
    "            \"media_type\": \"TEXT\",\n",
    "            \"global_key\": str(uuid.uuid4())\n",
    "        }\n",
    "        data.append(data_row)\n",
    "\n",
    "# Ghi dữ liệu vào file JSON\n",
    "with open(json_file_path, mode='w', encoding='utf-8') as json_file:\n",
    "    json.dump(data, json_file, ensure_ascii=False, indent=2)\n",
    "\n",
    "print(f\"Đã chuyển đổi CSV thành JSON tại: {json_file_path}\")\n"
   ]
  },
  {
   "cell_type": "code",
   "execution_count": null,
   "id": "934d1f67-dd18-4819-9a36-077e44e471c1",
   "metadata": {},
   "outputs": [],
   "source": []
  }
 ],
 "metadata": {
  "kernelspec": {
   "display_name": "Python 3 (ipykernel)",
   "language": "python",
   "name": "python3"
  },
  "language_info": {
   "codemirror_mode": {
    "name": "ipython",
    "version": 3
   },
   "file_extension": ".py",
   "mimetype": "text/x-python",
   "name": "python",
   "nbconvert_exporter": "python",
   "pygments_lexer": "ipython3",
   "version": "3.12.4"
  }
 },
 "nbformat": 4,
 "nbformat_minor": 5
}
